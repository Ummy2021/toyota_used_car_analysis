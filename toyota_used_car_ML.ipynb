{
 "cells": [
  {
   "cell_type": "markdown",
   "id": "73c51375",
   "metadata": {},
   "source": [
    "Homework 1 for Machine learning with python <br>\n",
    "Data source:https://www.kaggle.com/aishwaryamuthukumar/cars-dataset-audi-bmw-ford-hyundai-skoda-vw <br>\n",
    "1. Choosen dataset: toyota.csv"
   ]
  },
  {
   "cell_type": "markdown",
   "id": "73d7c420",
   "metadata": {},
   "source": [
    "Import required Libraries"
   ]
  },
  {
   "cell_type": "code",
   "execution_count": 62,
   "id": "77132a62",
   "metadata": {},
   "outputs": [],
   "source": [
    "from sklearn.linear_model import LinearRegression\n",
    "from sklearn.model_selection import train_test_split\n",
    "from sklearn.metrics import mean_squared_error\n",
    "\n",
    "import pandas as pd\n",
    "import numpy as np"
   ]
  },
  {
   "cell_type": "markdown",
   "id": "d82fc09a",
   "metadata": {},
   "source": [
    "2. Load data"
   ]
  },
  {
   "cell_type": "code",
   "execution_count": 63,
   "id": "302d993d",
   "metadata": {},
   "outputs": [
    {
     "data": {
      "text/html": [
       "<div>\n",
       "<style scoped>\n",
       "    .dataframe tbody tr th:only-of-type {\n",
       "        vertical-align: middle;\n",
       "    }\n",
       "\n",
       "    .dataframe tbody tr th {\n",
       "        vertical-align: top;\n",
       "    }\n",
       "\n",
       "    .dataframe thead th {\n",
       "        text-align: right;\n",
       "    }\n",
       "</style>\n",
       "<table border=\"1\" class=\"dataframe\">\n",
       "  <thead>\n",
       "    <tr style=\"text-align: right;\">\n",
       "      <th></th>\n",
       "      <th>model</th>\n",
       "      <th>year</th>\n",
       "      <th>price</th>\n",
       "      <th>transmission</th>\n",
       "      <th>mileage</th>\n",
       "      <th>fuelType</th>\n",
       "      <th>mpg</th>\n",
       "      <th>engineSize</th>\n",
       "    </tr>\n",
       "  </thead>\n",
       "  <tbody>\n",
       "    <tr>\n",
       "      <th>0</th>\n",
       "      <td>GT86</td>\n",
       "      <td>2016</td>\n",
       "      <td>16000</td>\n",
       "      <td>Manual</td>\n",
       "      <td>24089</td>\n",
       "      <td>Petrol</td>\n",
       "      <td>36.2</td>\n",
       "      <td>2.0</td>\n",
       "    </tr>\n",
       "    <tr>\n",
       "      <th>1</th>\n",
       "      <td>GT86</td>\n",
       "      <td>2017</td>\n",
       "      <td>15995</td>\n",
       "      <td>Manual</td>\n",
       "      <td>18615</td>\n",
       "      <td>Petrol</td>\n",
       "      <td>36.2</td>\n",
       "      <td>2.0</td>\n",
       "    </tr>\n",
       "    <tr>\n",
       "      <th>2</th>\n",
       "      <td>GT86</td>\n",
       "      <td>2015</td>\n",
       "      <td>13998</td>\n",
       "      <td>Manual</td>\n",
       "      <td>27469</td>\n",
       "      <td>Petrol</td>\n",
       "      <td>36.2</td>\n",
       "      <td>2.0</td>\n",
       "    </tr>\n",
       "    <tr>\n",
       "      <th>3</th>\n",
       "      <td>GT86</td>\n",
       "      <td>2017</td>\n",
       "      <td>18998</td>\n",
       "      <td>Manual</td>\n",
       "      <td>14736</td>\n",
       "      <td>Petrol</td>\n",
       "      <td>36.2</td>\n",
       "      <td>2.0</td>\n",
       "    </tr>\n",
       "    <tr>\n",
       "      <th>4</th>\n",
       "      <td>GT86</td>\n",
       "      <td>2017</td>\n",
       "      <td>17498</td>\n",
       "      <td>Manual</td>\n",
       "      <td>36284</td>\n",
       "      <td>Petrol</td>\n",
       "      <td>36.2</td>\n",
       "      <td>2.0</td>\n",
       "    </tr>\n",
       "    <tr>\n",
       "      <th>5</th>\n",
       "      <td>GT86</td>\n",
       "      <td>2017</td>\n",
       "      <td>15998</td>\n",
       "      <td>Manual</td>\n",
       "      <td>26919</td>\n",
       "      <td>Petrol</td>\n",
       "      <td>36.2</td>\n",
       "      <td>2.0</td>\n",
       "    </tr>\n",
       "    <tr>\n",
       "      <th>6</th>\n",
       "      <td>GT86</td>\n",
       "      <td>2017</td>\n",
       "      <td>18522</td>\n",
       "      <td>Manual</td>\n",
       "      <td>10456</td>\n",
       "      <td>Petrol</td>\n",
       "      <td>36.2</td>\n",
       "      <td>2.0</td>\n",
       "    </tr>\n",
       "    <tr>\n",
       "      <th>7</th>\n",
       "      <td>GT86</td>\n",
       "      <td>2017</td>\n",
       "      <td>18995</td>\n",
       "      <td>Manual</td>\n",
       "      <td>12340</td>\n",
       "      <td>Petrol</td>\n",
       "      <td>36.2</td>\n",
       "      <td>2.0</td>\n",
       "    </tr>\n",
       "    <tr>\n",
       "      <th>8</th>\n",
       "      <td>GT86</td>\n",
       "      <td>2020</td>\n",
       "      <td>27998</td>\n",
       "      <td>Manual</td>\n",
       "      <td>516</td>\n",
       "      <td>Petrol</td>\n",
       "      <td>33.2</td>\n",
       "      <td>2.0</td>\n",
       "    </tr>\n",
       "    <tr>\n",
       "      <th>9</th>\n",
       "      <td>GT86</td>\n",
       "      <td>2016</td>\n",
       "      <td>13990</td>\n",
       "      <td>Manual</td>\n",
       "      <td>37999</td>\n",
       "      <td>Petrol</td>\n",
       "      <td>36.2</td>\n",
       "      <td>2.0</td>\n",
       "    </tr>\n",
       "  </tbody>\n",
       "</table>\n",
       "</div>"
      ],
      "text/plain": [
       "   model  year  price transmission  mileage fuelType   mpg  engineSize\n",
       "0   GT86  2016  16000       Manual    24089   Petrol  36.2         2.0\n",
       "1   GT86  2017  15995       Manual    18615   Petrol  36.2         2.0\n",
       "2   GT86  2015  13998       Manual    27469   Petrol  36.2         2.0\n",
       "3   GT86  2017  18998       Manual    14736   Petrol  36.2         2.0\n",
       "4   GT86  2017  17498       Manual    36284   Petrol  36.2         2.0\n",
       "5   GT86  2017  15998       Manual    26919   Petrol  36.2         2.0\n",
       "6   GT86  2017  18522       Manual    10456   Petrol  36.2         2.0\n",
       "7   GT86  2017  18995       Manual    12340   Petrol  36.2         2.0\n",
       "8   GT86  2020  27998       Manual      516   Petrol  33.2         2.0\n",
       "9   GT86  2016  13990       Manual    37999   Petrol  36.2         2.0"
      ]
     },
     "metadata": {},
     "output_type": "display_data"
    },
    {
     "name": "stdout",
     "output_type": "stream",
     "text": [
      "(6738, 8)\n"
     ]
    }
   ],
   "source": [
    "import os\n",
    "\n",
    "#Changing working directory\n",
    "os.chdir(r'H:\\EMK_Data analysis with python')\n",
    "\n",
    "#Read 'csv' file\n",
    "df = pd.read_csv('toyota.csv',encoding = 'unicode_escape')\n",
    "\n",
    "display(df.head(10))\n",
    "print(df.shape)"
   ]
  },
  {
   "cell_type": "code",
   "execution_count": 64,
   "id": "39caa87e",
   "metadata": {},
   "outputs": [
    {
     "name": "stdout",
     "output_type": "stream",
     "text": [
      "<class 'pandas.core.frame.DataFrame'>\n",
      "RangeIndex: 6738 entries, 0 to 6737\n",
      "Data columns (total 8 columns):\n",
      " #   Column        Non-Null Count  Dtype  \n",
      "---  ------        --------------  -----  \n",
      " 0   model         6738 non-null   object \n",
      " 1   year          6738 non-null   int64  \n",
      " 2   price         6738 non-null   int64  \n",
      " 3   transmission  6738 non-null   object \n",
      " 4   mileage       6738 non-null   int64  \n",
      " 5   fuelType      6738 non-null   object \n",
      " 6   mpg           6738 non-null   float64\n",
      " 7   engineSize    6738 non-null   float64\n",
      "dtypes: float64(2), int64(3), object(3)\n",
      "memory usage: 421.2+ KB\n"
     ]
    }
   ],
   "source": [
    "df.info()"
   ]
  },
  {
   "cell_type": "code",
   "execution_count": 65,
   "id": "eeb7bf57",
   "metadata": {},
   "outputs": [
    {
     "name": "stdout",
     "output_type": "stream",
     "text": [
      "Index(['model', 'year', 'price', 'transmission', 'mileage', 'fuelType', 'mpg',\n",
      "       'engineSize'],\n",
      "      dtype='object')\n"
     ]
    }
   ],
   "source": [
    "print(df.columns)"
   ]
  },
  {
   "cell_type": "markdown",
   "id": "04609318",
   "metadata": {},
   "source": [
    "(B) Separating the numeric features and target variable"
   ]
  },
  {
   "cell_type": "code",
   "execution_count": 66,
   "id": "81589c12",
   "metadata": {},
   "outputs": [
    {
     "name": "stdout",
     "output_type": "stream",
     "text": [
      "(6738, 4) (6738, 1)\n"
     ]
    }
   ],
   "source": [
    "#X= Feature variable/Independed variable, Y= Target/ Depended variable\n",
    "\n",
    "features = ['year','mileage', 'mpg', 'engineSize']\n",
    "target = ['price']\n",
    "\n",
    "X = df[features]\n",
    "y = df[target]\n",
    "\n",
    "print(X.shape, y.shape)"
   ]
  },
  {
   "cell_type": "markdown",
   "id": "69a5782d",
   "metadata": {},
   "source": [
    "Here, (6738, 4) = (Row , Column) in X dataframe <br>\n",
    "(6738, 1) = (Row , Column) in y dataframe <br>\n",
    "\n",
    "'model', 'transmission' and 'fuelType' columns are categorical data.\n"
   ]
  },
  {
   "cell_type": "markdown",
   "id": "ea68178a",
   "metadata": {},
   "source": [
    "(C) Split the original dataset into the train set (80%) and the test set (20%), \n"
   ]
  },
  {
   "cell_type": "code",
   "execution_count": 67,
   "id": "981e4059",
   "metadata": {},
   "outputs": [
    {
     "name": "stdout",
     "output_type": "stream",
     "text": [
      "(5390, 4) (1348, 4) (5390, 1) (1348, 1)\n"
     ]
    }
   ],
   "source": [
    "X_train, X_test, y_train, y_test = train_test_split(X, y, test_size=0.2, random_state=1)\n",
    "\n",
    "print(X_train.shape, X_test.shape, y_train.shape, y_test.shape)"
   ]
  },
  {
   "cell_type": "markdown",
   "id": "fd6603a3",
   "metadata": {},
   "source": [
    "Data set (6738, 4) (6738, 1) are divided into \n",
    "train set=(5390, 4) and test set = (1348, 4) for X <br> \n",
    "train set=(5390, 1) and test set = (1348, 1) for y"
   ]
  },
  {
   "cell_type": "markdown",
   "id": "7592763f",
   "metadata": {},
   "source": [
    "(D) Perform Linear Regression and Predict the 'Price' from the test set, \n"
   ]
  },
  {
   "cell_type": "code",
   "execution_count": 68,
   "id": "e7fd45ad",
   "metadata": {},
   "outputs": [],
   "source": [
    "#LinearRegression\n",
    "model = LinearRegression()\n",
    "model = model.fit(X_train, y_train)"
   ]
  },
  {
   "cell_type": "code",
   "execution_count": 69,
   "id": "e8d45a44",
   "metadata": {},
   "outputs": [
    {
     "name": "stdout",
     "output_type": "stream",
     "text": [
      "[[17047.903718  ]\n",
      " [10756.12766572]\n",
      " [ 8994.28521115]\n",
      " ...\n",
      " [11317.2571353 ]\n",
      " [ 8435.95079987]\n",
      " [ 9205.44764864]]\n"
     ]
    }
   ],
   "source": [
    "#Prediction\n",
    "y_pred = model.predict(X_test)\n",
    "\n",
    "print(y_pred)\n"
   ]
  },
  {
   "cell_type": "markdown",
   "id": "ac99aa46",
   "metadata": {},
   "source": [
    "Predicted y data based on X test value"
   ]
  },
  {
   "cell_type": "code",
   "execution_count": 70,
   "id": "44ae02f5",
   "metadata": {},
   "outputs": [
    {
     "name": "stdout",
     "output_type": "stream",
     "text": [
      "      price\n",
      "6334  13998\n",
      "2256   9420\n",
      "4429   7901\n",
      "2353  14810\n",
      "5903  20365\n",
      "...     ...\n",
      "559   22362\n",
      "1941  13200\n",
      "2043   9995\n",
      "3730   7998\n",
      "1266   7688\n",
      "\n",
      "[1348 rows x 1 columns]\n"
     ]
    }
   ],
   "source": [
    "print(y_test)"
   ]
  },
  {
   "cell_type": "markdown",
   "id": "fce604c3",
   "metadata": {},
   "source": [
    "Actual y test data based on X test value"
   ]
  },
  {
   "cell_type": "markdown",
   "id": "a11b904e",
   "metadata": {},
   "source": [
    "(E) Find the RMSE value from the actual test data and the predicted data."
   ]
  },
  {
   "cell_type": "markdown",
   "id": "b9c57bdf",
   "metadata": {},
   "source": [
    "RMSE= Root_Mean_Suqared_Error <br>\n",
    "least value is preferable (close to zero)"
   ]
  },
  {
   "cell_type": "code",
   "execution_count": 71,
   "id": "83973b07",
   "metadata": {},
   "outputs": [
    {
     "name": "stdout",
     "output_type": "stream",
     "text": [
      "2916.148404254022\n"
     ]
    }
   ],
   "source": [
    "#Finding error between actual and predicted data \n",
    "RMSE = mean_squared_error(y_test, y_pred, squared=False)\n",
    "print(RMSE)"
   ]
  },
  {
   "cell_type": "markdown",
   "id": "c354a880",
   "metadata": {},
   "source": [
    "The model gives overall error 2916.14 between test and predicted data. "
   ]
  }
 ],
 "metadata": {
  "kernelspec": {
   "display_name": "Python 3",
   "language": "python",
   "name": "python3"
  },
  "language_info": {
   "codemirror_mode": {
    "name": "ipython",
    "version": 3
   },
   "file_extension": ".py",
   "mimetype": "text/x-python",
   "name": "python",
   "nbconvert_exporter": "python",
   "pygments_lexer": "ipython3",
   "version": "3.8.8"
  }
 },
 "nbformat": 4,
 "nbformat_minor": 5
}
